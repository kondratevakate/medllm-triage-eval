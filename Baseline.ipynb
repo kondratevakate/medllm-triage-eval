{
  "nbformat": 4,
  "nbformat_minor": 0,
  "metadata": {
    "colab": {
      "provenance": [],
      "machine_shape": "hm",
      "authorship_tag": "ABX9TyP6J8merxQ9HTyzogDMKD0r",
      "include_colab_link": true
    },
    "kernelspec": {
      "name": "python3",
      "display_name": "Python 3"
    },
    "language_info": {
      "name": "python"
    }
  },
  "cells": [
    {
      "cell_type": "markdown",
      "metadata": {
        "id": "view-in-github",
        "colab_type": "text"
      },
      "source": [
        "<a href=\"https://colab.research.google.com/github/kondratevakate/medllm-triage-eval/blob/main/Baseline.ipynb\" target=\"_parent\"><img src=\"https://colab.research.google.com/assets/colab-badge.svg\" alt=\"Open In Colab\"/></a>"
      ]
    },
    {
      "cell_type": "code",
      "source": [
        "# download_data.py\n",
        "import gdown\n",
        "\n",
        "def download_drive_file(fid: str, out: str) -> str:\n",
        "    \"\"\"Download Drive file\"\"\"\n",
        "    url = f\"https://drive.google.com/uc?id={fid}\"\n",
        "    gdown.download(url, out, quiet=False)\n",
        "    return out\n",
        "\n",
        "\n",
        "# preprocessing.py\n",
        "import pandas as pd\n",
        "from sklearn.preprocessing import StandardScaler\n",
        "\n",
        "# Default column mapping\n",
        "COLUMN_MAPPING = {\n",
        "    'triage_vital_temp': 'Temperature',\n",
        "    'triage_vital_hr': 'HeartRate',\n",
        "    'triage_vital_rr': 'RespiratoryRate',\n",
        "    'triage_vital_o2': 'Oxygen',\n",
        "    'triage_vital_sbp': 'SystolicBP',\n",
        "    'triage_vital_dbp': 'DiastolicBP',\n",
        "    'gender': 'Sex',\n",
        "    'race': 'Race',\n",
        "    'esi': 'ESI'\n",
        "}\n",
        "\n",
        "def load_and_rename(path):\n",
        "    \"\"\"Load Feather or CSV and rename columns\"\"\"\n",
        "    if path.endswith('.feather'):\n",
        "        df = pd.read_feather(path)\n",
        "    else:\n",
        "        df = pd.read_csv(path)\n",
        "    return df.rename(columns=COLUMN_MAPPING)\n",
        "\n",
        "\n",
        "def impute_numeric(df, cols):\n",
        "    \"\"\"Median-impute numeric cols\"\"\"\n",
        "    for c in cols:\n",
        "        df[c] = pd.to_numeric(df[c], errors='coerce').fillna(df[c].median())\n",
        "    return df\n",
        "\n",
        "\n",
        "def build_features(df, numeric_cols, prefix):\n",
        "    \"\"\"Prepare feature matrix X and target y\"\"\"\n",
        "    # Impute numeric features\n",
        "    df = impute_numeric(df, numeric_cols)\n",
        "    # Extract target separately\n",
        "    y = pd.to_numeric(df['ESI'], errors='coerce').dropna().astype(int)\n",
        "    # Build feature set\n",
        "    feature_cols = numeric_cols + [col for col in df.columns if col.startswith(prefix)]\n",
        "    X = df[feature_cols].apply(pd.to_numeric, errors='coerce').fillna(0)\n",
        "    # Align X and y indices\n",
        "    X = X.loc[y.index]\n",
        "    return X, y\n",
        "\n",
        "\n",
        "def scale_features(X_train, X_test):\n",
        "    \"\"\"Standard scale features\"\"\"\n",
        "    scaler = StandardScaler()\n",
        "    return scaler.fit_transform(X_train), scaler.transform(X_test)\n",
        "\n",
        "\n",
        "# model.py\n",
        "from sklearn.linear_model import LogisticRegression\n",
        "\n",
        "def get_logistic_model():\n",
        "    \"\"\"Logistic Regression with increased iterations\"\"\"\n",
        "    return LogisticRegression(solver='lbfgs', max_iter=1000)\n",
        "\n",
        "\n",
        "# evaluation.py\n",
        "from sklearn.model_selection import StratifiedKFold, cross_val_predict\n",
        "from sklearn.metrics import (\n",
        "    accuracy_score, f1_score, precision_score, recall_score,\n",
        "    mean_squared_error, roc_auc_score\n",
        ")\n",
        "import numpy as np\n",
        "import pandas as pd\n",
        "\n",
        "def cv_predictions(model, X, y, n_splits=3):\n",
        "    \"\"\"Generate OOF preds and probs via CV\"\"\"\n",
        "    cv = StratifiedKFold(n_splits=n_splits, shuffle=True, random_state=42)\n",
        "    y_pred = cross_val_predict(model, X, y, cv=cv)\n",
        "    y_proba = cross_val_predict(model, X, y, cv=cv, method='predict_proba')\n",
        "    return y_pred, y_proba\n",
        "\n",
        "\n",
        "def compute_cv_metrics(y_true, y_pred, y_proba):\n",
        "    \"\"\"Compute CV metrics: overall, risk, safety, plus ESI-2 F1\"\"\"\n",
        "    metrics = {}\n",
        "    # Overall Performance\n",
        "    metrics['accuracy'] = accuracy_score(y_true, y_pred)\n",
        "    metrics['macro_precision'] = precision_score(y_true, y_pred, average='macro', zero_division=0)\n",
        "    metrics['macro_recall'] = recall_score(y_true, y_pred, average='macro', zero_division=0)\n",
        "    metrics['macro_f1'] = f1_score(y_true, y_pred, average='macro', zero_division=0)\n",
        "\n",
        "    # Risk-Level Specific\n",
        "    high_true = y_true.isin([1,2]).astype(int)\n",
        "    high_pred = pd.Series(y_pred).isin([1,2]).astype(int)\n",
        "    metrics['high_risk_recall'] = recall_score(high_true, high_pred, zero_division=0)\n",
        "\n",
        "    # ESI-2 F1\n",
        "    true2 = (y_true == 2).astype(int)\n",
        "    pred2 = (pd.Series(y_pred) == 2).astype(int)\n",
        "    metrics['esi2_f1'] = f1_score(true2, pred2, zero_division=0)\n",
        "\n",
        "    moderate_true = (y_true == 3).astype(int)\n",
        "    moderate_pred = (pd.Series(y_pred) == 3).astype(int)\n",
        "    metrics['moderate_f1'] = f1_score(moderate_true, moderate_pred, zero_division=0)\n",
        "\n",
        "    nonurgent_true = y_true.isin([4,5]).astype(int)\n",
        "    nonurgent_pred = pd.Series(y_pred).isin([4,5]).astype(int)\n",
        "    metrics['non_urgent_precision'] = precision_score(nonurgent_true, nonurgent_pred, zero_division=0)\n",
        "\n",
        "    # Clinical Safety\n",
        "    over = np.sum(y_pred < y_true)\n",
        "    under = np.sum(y_pred > y_true)\n",
        "    total = len(y_true)\n",
        "    metrics['over_triage_rate'] = over / total\n",
        "    metrics['under_triage_rate'] = under / total\n",
        "    metrics['failed_predictions_count'] = int(np.sum(pd.isna(y_pred)))\n",
        "\n",
        "    return metrics\n",
        "\n",
        "\n",
        "# visualization.py\n",
        "import matplotlib.pyplot as plt\n",
        "import numpy as np\n",
        "import pandas as pd\n",
        "\n",
        "def plot_cv_distribution(y_true, y_pred):\n",
        "    \"\"\"Plot true vs CV-predicted distribution\"\"\"\n",
        "    true_ct = pd.Series(y_true).value_counts().sort_index()\n",
        "    pred_ct = pd.Series(y_pred).value_counts().sort_index()\n",
        "    all_cls = sorted(set(true_ct.index) | set(pred_ct.index))\n",
        "    true_ct = true_ct.reindex(all_cls, fill_value=0)\n",
        "    pred_ct = pred_ct.reindex(all_cls, fill_value=0)\n",
        "    x = np.arange(len(all_cls)); w = 0.35\n",
        "    fig, ax = plt.subplots(figsize=(8,5))\n",
        "    ax.bar(x-w/2, true_ct, w, label='True')\n",
        "    ax.bar(x+w/2, pred_ct, w, label='Pred')\n",
        "    ax.set_xticks(x); ax.set_xticklabels(all_cls)\n",
        "    ax.set_xlabel('ESI Level'); ax.set_ylabel('Count')\n",
        "    ax.set_title('CV True vs Pred ESI'); ax.legend(); plt.show()\n",
        "\n",
        "\n",
        "def report_cv_metrics(metrics):\n",
        "    \"\"\"Print CV metrics dict including ESI-2 F1\"\"\"\n",
        "    print(\"Overall Performance:\")\n",
        "    print(f\"  Accuracy:           {metrics['accuracy']:.3f}\")\n",
        "    print(f\"  Macro Precision:    {metrics['macro_precision']:.3f}\")\n",
        "    print(f\"  Macro Recall:       {metrics['macro_recall']:.3f}\")\n",
        "    print(f\"  Macro F1 Score:     {metrics['macro_f1']:.3f}\\n\")\n",
        "\n",
        "    print(\"Risk-Level Specific Metrics:\")\n",
        "    print(f\"  High-Risk Recall:   {metrics['high_risk_recall']:.3f}\")\n",
        "    print(f\"  ESI-2 F1:           {metrics['esi2_f1']:.3f}\")\n",
        "    print(f\"  ESI-3 F1:        {metrics['moderate_f1']:.3f}\")\n",
        "    print(f\"  Non-Urgent Precision: {metrics['non_urgent_precision']:.3f}\\n\")\n",
        "\n",
        "    print(\"Clinical Safety Metrics:\")\n",
        "    print(f\"  Over-Triage Rate:      {metrics['over_triage_rate']:.3f}\")\n",
        "    print(f\"  Under-Triage Rate:     {metrics['under_triage_rate']:.3f}\")\n",
        "    print(f\"  Failed Predictions:    {metrics['failed_predictions_count']}\")\n",
        "\n",
        "\n",
        "\n"
      ],
      "metadata": {
        "colab": {
          "base_uri": "https://localhost:8080/",
          "height": 834
        },
        "id": "KF7n_mQVZp_5",
        "outputId": "99173451-21b9-424b-f16f-74a254e3934c"
      },
      "execution_count": 3,
      "outputs": [
        {
          "output_type": "stream",
          "name": "stderr",
          "text": [
            "Downloading...\n",
            "From: https://drive.google.com/uc?id=1KsESBWcHZnYoWy6ALia0lMiUzJTPo2ds\n",
            "To: /content/small_sample.csv\n",
            "100%|██████████| 2.55M/2.55M [00:00<00:00, 22.2MB/s]\n"
          ]
        },
        {
          "output_type": "stream",
          "name": "stdout",
          "text": [
            "Overall Performance:\n",
            "  Accuracy:           0.554\n",
            "  Macro Precision:    0.385\n",
            "  Macro Recall:       0.367\n",
            "  Macro F1 Score:     0.372\n",
            "\n",
            "Risk-Level Specific Metrics:\n",
            "  High-Risk Recall:   0.510\n",
            "  ESI-2 F1:           0.539\n",
            "  ESI-3 F1:        0.604\n",
            "  Non-Urgent Precision: 0.625\n",
            "\n",
            "Clinical Safety Metrics:\n",
            "  Over-Triage Rate:      0.214\n",
            "  Under-Triage Rate:     0.232\n",
            "  Failed Predictions:    0\n"
          ]
        },
        {
          "output_type": "display_data",
          "data": {
            "text/plain": [
              "<Figure size 800x500 with 1 Axes>"
            ],
            "image/png": "[encoded data removed]"
          },
          "metadata": {}
        }
      ]
    },
    {
      "cell_type": "code",
      "source": [
        "# Download & load data\n",
        "df_path = download_drive_file(\n",
        "    \"1wCE1Q6hXDbr1QuP7V73GEXu24l1ANnxu\",\n",
        "    \"full_data.feather\"\n",
        ")\n",
        "# load_and_rename will try feather, fallback to CSV\n",
        "df = load_and_rename(df_path)\n",
        "\n",
        "# Build and scale features\n",
        "numeric_cols = ['Temperature','HeartRate','RespiratoryRate','Oxygen','SystolicBP','DiastolicBP']\n",
        "X, y = build_features(df, numeric_cols, prefix='cc_')\n",
        "X_scaled, _ = scale_features(X, X)\n",
        "\n",
        "# Cross-validated predictions and metrics\n",
        "model = get_logistic_model()\n",
        "y_pred_cv, y_proba_cv = cv_predictions(model, X_scaled, y)\n",
        "metrics = compute_cv_metrics(y, y_pred_cv, y_proba_cv)\n",
        "\n",
        "# Reporting\n",
        "report_cv_metrics(metrics)\n",
        "plot_cv_distribution(y, y_pred_cv)"
      ],
      "metadata": {
        "id": "ShsJQa59im5s",
        "colab": {
          "base_uri": "https://localhost:8080/",
          "height": 765
        },
        "outputId": "da24b6d4-60f3-46ac-b4f9-7d74f7ebf961"
      },
      "execution_count": 4,
      "outputs": [
        {
          "output_type": "stream",
          "name": "stdout",
          "text": [
            "Overall Performance:\n",
            "  Accuracy:           0.632\n",
            "  Macro Precision:    0.638\n",
            "  Macro Recall:       0.451\n",
            "  Macro F1 Score:     0.479\n",
            "\n",
            "Risk-Level Specific Metrics:\n",
            "  High-Risk Recall:   0.622\n",
            "  ESI-2 F1:           0.648\n",
            "  ESI-3 F1:        0.655\n",
            "  Non-Urgent Precision: 0.738\n",
            "\n",
            "Clinical Safety Metrics:\n",
            "  Over-Triage Rate:      0.188\n",
            "  Under-Triage Rate:     0.180\n",
            "  Failed Predictions:    0\n"
          ]
        },
        {
          "output_type": "display_data",
          "data": {
            "text/plain": [
              "<Figure size 800x500 with 1 Axes>"
            ],
            "image/png": "[encoded data removed]"
          },
          "metadata": {}
        }
      ]
    },
    {
      "cell_type": "code",
      "source": [
        "# Build a DataFrame of true labels and predictions\n",
        "cv_pred_df = pd.DataFrame({\n",
        "    'true_ESI': y.values,\n",
        "    'pred_ESI': y_pred_cv\n",
        "}, index=y.index)\n",
        "\n",
        "# Add predicted probabilities for each ESI class\n",
        "classes = sorted(np.unique(y))\n",
        "for i, cls in enumerate(classes):\n",
        "    cv_pred_df[f'proba_ESI_{cls}'] = y_proba_cv[:, i]\n",
        "\n",
        "# Save to disk\n",
        "cv_pred_df.to_csv('cv_predictions.csv', index=True)\n",
        "print(f\"✅ Saved CV predictions: {len(cv_pred_df)} rows → 'cv_predictions.csv'\")"
      ],
      "metadata": {
        "colab": {
          "base_uri": "https://localhost:8080/"
        },
        "id": "FwpGhwHLr6Ia",
        "outputId": "12ddb2ae-74f3-4445-d64f-bd9817c8a331"
      },
      "execution_count": 10,
      "outputs": [
        {
          "output_type": "stream",
          "name": "stdout",
          "text": [
            "✅ Saved CV predictions: 558029 rows → 'cv_predictions.csv'\n"
          ]
        }
      ]
    },
    {
      "cell_type": "code",
      "source": [
        "# ───── Cell: Create Random Stratified 10 000‑Row Test Set ─────\n",
        "import pandas as pd\n",
        "from sklearn.model_selection import StratifiedShuffleSplit\n",
        "\n",
        "# 1) Load & preprocess full dataset\n",
        "#    (uses your existing loader & feature builder)\n",
        "df_full    = load_and_rename('full_data.feather')   # or .csv\n",
        "numeric_cols = ['Temperature','HeartRate','RespiratoryRate',\n",
        "                'Oxygen','SystolicBP','DiastolicBP']\n",
        "X_full, y_full = build_features(df_full, numeric_cols, prefix='cc_')\n",
        "\n",
        "# 2) Stratified split for exactly 10 000 test rows\n",
        "sss = StratifiedShuffleSplit(\n",
        "    n_splits=1,\n",
        "    test_size=10000,\n",
        "    random_state=42\n",
        ")\n",
        "train_idx, test_idx = next(sss.split(X_full, y_full))\n",
        "\n",
        "# 3) Extract test set\n",
        "X_test = X_full.iloc[test_idx]\n",
        "y_test = y_full.iloc[test_idx]\n",
        "df_test = df_full.iloc[test_idx].reset_index(drop=True)\n",
        "\n",
        "# 4) Save test set to CSV (or Feather)\n",
        "df_test.to_csv('random_stratified_test.csv', index=False)\n",
        "print(f\"Saved random_stratified_test.csv with {len(df_test)} rows\")\n"
      ],
      "metadata": {
        "colab": {
          "base_uri": "https://localhost:8080/"
        },
        "id": "b35Rs2uC3gVu",
        "outputId": "2c1aa604-90e8-4361-9141-3fc1a48a2149"
      },
      "execution_count": 30,
      "outputs": [
        {
          "output_type": "stream",
          "name": "stdout",
          "text": [
            "Saved random_stratified_test.csv with 10000 rows\n"
          ]
        }
      ]
    },
    {
      "cell_type": "code",
      "source": [
        "# load_and_rename will try feather, fallback to CSV\n",
        "df = load_and_rename('random_stratified_test.csv')\n",
        "\n",
        "# Build and scale features\n",
        "numeric_cols = ['Temperature','HeartRate','RespiratoryRate','Oxygen','SystolicBP','DiastolicBP']\n",
        "X, y = build_features(df, numeric_cols, prefix='cc_')\n",
        "X_scaled, _ = scale_features(X, X)\n",
        "\n",
        "# Cross-validated predictions and metrics\n",
        "model = get_logistic_model()\n",
        "y_pred_cv, y_proba_cv = cv_predictions(model, X_scaled, y)\n",
        "metrics = compute_cv_metrics(y, y_pred_cv, y_proba_cv)\n",
        "\n",
        "# Reporting\n",
        "report_cv_metrics(metrics)\n",
        "plot_cv_distribution(y, y_pred_cv)"
      ],
      "metadata": {
        "id": "IxLU6Id41rAR"
      },
      "execution_count": null,
      "outputs": []
    }
  ]
}